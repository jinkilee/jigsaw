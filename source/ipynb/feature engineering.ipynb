{
 "cells": [
  {
   "cell_type": "code",
   "execution_count": 1,
   "metadata": {},
   "outputs": [],
   "source": [
    "import pandas as pd\n",
    "import numpy as np"
   ]
  },
  {
   "cell_type": "code",
   "execution_count": 2,
   "metadata": {},
   "outputs": [],
   "source": [
    "import pickle\n",
    "word = pickle.load(open('selected_word.pkl','rb'))"
   ]
  },
  {
   "cell_type": "code",
   "execution_count": 3,
   "metadata": {},
   "outputs": [],
   "source": [
    "word_dict = {w:i for i, w in enumerate(word)}\n",
    "word_dict['UNKNOWN'] = len(word_dict)"
   ]
  },
  {
   "cell_type": "code",
   "execution_count": 4,
   "metadata": {},
   "outputs": [],
   "source": [
    "data = pd.read_csv('/data/jigsaw/train_sample.csv')"
   ]
  },
  {
   "cell_type": "code",
   "execution_count": 5,
   "metadata": {},
   "outputs": [
    {
     "data": {
      "text/plain": [
       "0        What's that giant sucking sound? It's the swam...\n",
       "1        The \"poster\" you are engaging also went by the...\n",
       "2        Considering the Liberal gov't position on thin...\n",
       "3        We aren't doing it because we are required to ...\n",
       "4        Everyone in Appalachia is poorly educated whit...\n",
       "5        He did made the executive decision to implemen...\n",
       "6        The rst of the library is filled with Obama bo...\n",
       "7        There are many ways to plan a retirement portf...\n",
       "8        I'm worried about:\\n1. Teachers and management...\n",
       "9        Donald Trump, by his own example, has never sh...\n",
       "10       Congratulations to all immigration lawyers! Yo...\n",
       "11       The United States is a place of extremes. Its ...\n",
       "12                                             Thanks SFI.\n",
       "13       Roldrik,  What are the costs that you mention ...\n",
       "14                                          Hockey Matters\n",
       "15       Use of forensics to solve complex issues, his ...\n",
       "16       Depends.  How much will it cost to kill all th...\n",
       "17       This voter registration is already in search e...\n",
       "18       Existing home owners will also get squeezed on...\n",
       "19       But about those transcripts up above you said ...\n",
       "20       no, i think he was baffled why 'this' particul...\n",
       "21       Rep. Scalise and the others were shot two mont...\n",
       "22       You can't throw a ball anywhere in Greeley and...\n",
       "23       Sounds, like Kelly has a little numbers proble...\n",
       "24       Ahh falling into the soft cushion of judicial ...\n",
       "25       I can't say I am optimistic about young Jared'...\n",
       "26       Then perhaps they could start by defending fre...\n",
       "27       No surprise trudeau would grace the front  of ...\n",
       "28       Known arguments in favor of continuing work on...\n",
       "29       Third party voters did not vote for Trump.\\n\\n...\n",
       "                               ...                        \n",
       "18018    When people look at a pile of rubble and say \"...\n",
       "18019    I thought that taking in refugees was good for...\n",
       "18020    And whites, particularly white males, are neve...\n",
       "18021    While your opinion is your own, you are delusi...\n",
       "18022    Not only are Canadian retailers suffering, but...\n",
       "18023    SB17-267 also raises the already totally dispr...\n",
       "18024    The more we take responsibility for our own he...\n",
       "18025                        You are crazy bears poke back\n",
       "18026    \"A lot of people would just use the word 'buff...\n",
       "18027                              git in ur stang and git\n",
       "18028    Why is coach Joseph so shocked when asked abou...\n",
       "18029    Here's a red hot take for you: \\n\\nFor all the...\n",
       "18030    Indeed, Mr. Trump is a real test of our system...\n",
       "18031    So. You don't believe a culture that has lived...\n",
       "18032    They will wipe out the Syrian opposition to Ba...\n",
       "18033    ask Justin Trudeau the questions Canadians wan...\n",
       "18034    Do you actually know any of us? Of all of my b...\n",
       "18035    We will never completely agree re the ordinati...\n",
       "18036                      OK, NOW can we get rid of guns?\n",
       "18037    No.  You just have to do what every self respe...\n",
       "18038                                        Amen to that!\n",
       "18039    She just negotiated CETA.\\nPerhaps you should ...\n",
       "18040    Polis is quite the Mercedes Marxist, both affl...\n",
       "18041    Your friend Jack has some serious problems.  H...\n",
       "18042    By killing him with their  firearms. As I said...\n",
       "18043    Great Americans these protesters. The kind of ...\n",
       "18044    If you do not mind paying as much for repairs ...\n",
       "18045    It seems we have a trust fund baby PM that wan...\n",
       "18046    Yes at a cost of $3 million dollars per round ...\n",
       "18047    Like a gun is just a tool but that fact is den...\n",
       "Name: comment_text, Length: 18048, dtype: object"
      ]
     },
     "execution_count": 5,
     "metadata": {},
     "output_type": "execute_result"
    }
   ],
   "source": [
    "data.comment_text"
   ]
  },
  {
   "cell_type": "code",
   "execution_count": 12,
   "metadata": {},
   "outputs": [
    {
     "ename": "IndexError",
     "evalue": "list index out of range",
     "output_type": "error",
     "traceback": [
      "\u001b[0;31m---------------------------------------------------------------------------\u001b[0m",
      "\u001b[0;31mIndexError\u001b[0m                                Traceback (most recent call last)",
      "\u001b[0;32m<ipython-input-12-0e4989077f66>\u001b[0m in \u001b[0;36m<module>\u001b[0;34m()\u001b[0m\n\u001b[0;32m----> 1\u001b[0;31m \u001b[0mword\u001b[0m\u001b[0;34m[\u001b[0m\u001b[0;36m53446\u001b[0m\u001b[0;34m]\u001b[0m\u001b[0;34m\u001b[0m\u001b[0m\n\u001b[0m",
      "\u001b[0;31mIndexError\u001b[0m: list index out of range"
     ]
    }
   ],
   "source": []
  },
  {
   "cell_type": "code",
   "execution_count": null,
   "metadata": {},
   "outputs": [],
   "source": []
  }
 ],
 "metadata": {
  "kernelspec": {
   "display_name": "Python 3",
   "language": "python",
   "name": "python3"
  },
  "language_info": {
   "codemirror_mode": {
    "name": "ipython",
    "version": 3
   },
   "file_extension": ".py",
   "mimetype": "text/x-python",
   "name": "python",
   "nbconvert_exporter": "python",
   "pygments_lexer": "ipython3",
   "version": "3.5.2"
  }
 },
 "nbformat": 4,
 "nbformat_minor": 2
}
