{
 "cells": [
  {
   "cell_type": "code",
   "execution_count": 7,
   "metadata": {},
   "outputs": [],
   "source": [
    "import re\n",
    "import numpy as np\n",
    "import sys\n",
    "sys.path.insert(0, '../'); del sys\n",
    "import pandas as pd\n",
    "from tqdm import tqdm\n",
    "import gc\n",
    "import tensorflow as tf\n",
    "tqdm.pandas()\n",
    "import operator\n",
    "import pickle\n",
    "import time\n",
    "\n",
    "from urllib.parse import unquote"
   ]
  },
  {
   "cell_type": "code",
   "execution_count": 8,
   "metadata": {},
   "outputs": [],
   "source": [
    "from word_map import punc_mapping\n",
    "from word_map import contraction_mapping\n",
    "from word_map import mispell_dict\n",
    "from word_map import special_punc_mappings\n",
    "from word_map import spaces\n",
    "from word_map import rare_words_mapping\n",
    "from word_map import extra_punct\n",
    "from word_map import bad_case_words"
   ]
  },
  {
   "cell_type": "code",
   "execution_count": 9,
   "metadata": {},
   "outputs": [],
   "source": [
    "MINCOUNT = 14"
   ]
  },
  {
   "cell_type": "code",
   "execution_count": 10,
   "metadata": {},
   "outputs": [],
   "source": [
    "# remove space\n",
    "def remove_space(text):\n",
    "    \"\"\"\n",
    "    remove extra spaces and ending space if any\n",
    "    \"\"\"\n",
    "    for space in spaces:\n",
    "        text = text.replace(space, ' ')\n",
    "    text = text.strip()\n",
    "    text = re.sub('\\s+', ' ', text)\n",
    "    return text\n",
    "\n",
    "# replace strange punctuations and raplace diacritics\n",
    "from unicodedata import category, name, normalize\n",
    "\n",
    "def remove_diacritics(s):\n",
    "    return ''.join(c for c in normalize('NFKD', s.replace('ø', 'o').replace('Ø', 'O').replace('⁻', '-').replace('₋', '-'))\n",
    "                  if category(c) != 'Mn')\n",
    "\n",
    "def clean_special_punctuations(text):\n",
    "    for punc in special_punc_mappings:\n",
    "        if punc in text:\n",
    "            text = text.replace(punc, special_punc_mappings[punc])\n",
    "    # 注意顺序，remove_diacritics放前面会导致 'don´t' 被处理为 'don t'\n",
    "    #text = remove_diacritics(text)\n",
    "    return text\n",
    "\n",
    "# clean numbers\n",
    "def clean_number(text):\n",
    "    text = re.sub(r'(\\d+)([a-zA-Z])', '\\g<1> \\g<2>', text)\n",
    "    text = re.sub(r'(\\d+) (th|st|nd|rd) ', '\\g<1>\\g<2> ', text)\n",
    "    text = re.sub(r'(\\d+),(\\d+)', '\\g<1>\\g<2>', text)\n",
    "    text = re.sub(r'(\\d+)(e)(\\d+)',r'\\1 \\3', text)\n",
    "    \n",
    "    #num = re.compile(r'\\s((\\$)?\\d+(,)?\\d*)+')\n",
    "    num = re.compile(r'((\\$)?\\d+(,)?\\d*)+')\n",
    "    text = re.sub(num, ' NUMBER ', text)\n",
    "    return text\n",
    "\n",
    "# JINKI\n",
    "def clean_money(text):\n",
    "    num = re.compile(r'\\s((\\$)?\\d+(,)?\\d*)+\\s')\n",
    "    text = re.sub(num, ' NUMBER ', text)\n",
    "    return text\n",
    "\n",
    "def pre_clean_rare_words(text):\n",
    "    for rare_word in rare_words_mapping:\n",
    "        if rare_word in text:\n",
    "            text = text.replace(rare_word, rare_words_mapping[rare_word])\n",
    "\n",
    "    return text\n",
    "\n",
    "def clean_misspell(text):\n",
    "    for bad_word in mispell_dict:\n",
    "        if bad_word in text:\n",
    "            text = text.replace(bad_word, mispell_dict[bad_word])\n",
    "    return text\n",
    "\n",
    "import string\n",
    "regular_punct = list(string.punctuation)\n",
    "all_punct = list(set(regular_punct + extra_punct))\n",
    "# do not spacing - and .\n",
    "all_punct.remove('-')\n",
    "all_punct.remove('.')\n",
    "\n",
    "def spacing_punctuation(text):\n",
    "    \"\"\"\n",
    "    add space before and after punctuation and symbols\n",
    "    \"\"\"\n",
    "    for punc in all_punct:\n",
    "        if punc in text:\n",
    "            text = text.replace(punc, ' ' + punc + ' ')\n",
    "    return text\n",
    "\n",
    "def clean_bad_case_words(text):\n",
    "    for bad_word in bad_case_words:\n",
    "        if bad_word in text:\n",
    "            text = text.replace(bad_word, bad_case_words[bad_word])\n",
    "    return text\n",
    "\n",
    "mis_connect_list = ['(W|w)hat', '(W|w)hy', '(H|h)ow', '(W|w)hich', '(W|w)here', '(W|w)ill']\n",
    "mis_connect_re = re.compile('(%s)' % '|'.join(mis_connect_list))\n",
    "\n",
    "mis_spell_mapping = {'whattsup': 'WhatsApp', 'whatasapp':'WhatsApp', 'whatsupp':'WhatsApp', \n",
    "                      'whatcus':'what cause', 'arewhatsapp': 'are WhatsApp', 'Hwhat':'what',\n",
    "                      'Whwhat': 'What', 'whatshapp':'WhatsApp', 'howhat':'how that',\n",
    "                      'Whybis':'Why is', 'laowhy86':'Foreigners who do not respect China',\n",
    "                      'Whyco-education':'Why co-education',\n",
    "                      \"Howddo\":\"How do\", 'Howeber':'However', 'Showh':'Show',\n",
    "                      \"Willowmagic\":'Willow magic', 'WillsEye':'Will Eye', 'Williby':'will by'}\n",
    "\n",
    "def spacing_some_connect_words(text):\n",
    "    \"\"\"\n",
    "    'Whyare' -> 'Why are'\n",
    "    \"\"\"\n",
    "    ori = text\n",
    "    for error in mis_spell_mapping:\n",
    "        if error in text:\n",
    "            text = text.replace(error, mis_spell_mapping[error])\n",
    "\n",
    "    text = re.sub(r\" (W|w)hat+(s)*[A|a]*(p)+ \", \" WhatsApp \", text)\n",
    "    text = re.sub(r\" (W|w)hat\\S \", \" What \", text)\n",
    "    text = re.sub(r\" \\S(W|w)hat \", \" What \", text)\n",
    "    text = re.sub(r\" (W|w)hy\\S \", \" Why \", text)\n",
    "    text = re.sub(r\" \\S(W|w)hy \", \" Why \", text)\n",
    "    text = re.sub(r\" (H|h)ow\\S \", \" How \", text)\n",
    "    text = re.sub(r\" \\S(H|h)ow \", \" How \", text)\n",
    "    text = re.sub(r\" (W|w)hich\\S \", \" Which \", text)\n",
    "    text = re.sub(r\" \\S(W|w)hich \", \" Which \", text)\n",
    "    text = re.sub(r\" (W|w)here\\S \", \" Where \", text)\n",
    "    text = re.sub(r\" \\S(W|w)here \", \" Where \", text)\n",
    "    #text = mis_connect_re.sub(r\" \\1 \", text)\n",
    "    text = text.replace(\"What sApp\", 'WhatsApp')\n",
    "    \n",
    "    text = remove_space(text)\n",
    "    return text\n",
    "\n",
    "# clean repeated letters\n",
    "def clean_repeat_words(text):\n",
    "    \n",
    "    text = re.sub(r\"(I|i)(I|i)+ng\", \"ing\", text)\n",
    "    text = re.sub(r\"(L|l)(L|l)(L|l)+y\", \"lly\", text)\n",
    "    text = re.sub(r\"(A|a)(A|a)(A|a)+\", \"a\", text)\n",
    "    text = re.sub(r\"(C|c)(C|c)(C|c)+\", \"cc\", text)\n",
    "    text = re.sub(r\"(D|d)(D|d)(D|d)+\", \"dd\", text)\n",
    "    text = re.sub(r\"(E|e)(E|e)(E|e)+\", \"ee\", text)\n",
    "    text = re.sub(r\"(F|f)(F|f)(F|f)+\", \"ff\", text)\n",
    "    text = re.sub(r\"(G|g)(G|g)(G|g)+\", \"gg\", text)\n",
    "    text = re.sub(r\"(I|i)(I|i)(I|i)+\", \"i\", text)\n",
    "    text = re.sub(r\"(K|k)(K|k)(K|k)+\", \"k\", text)\n",
    "    text = re.sub(r\"(L|l)(L|l)(L|l)+\", \"ll\", text)\n",
    "    text = re.sub(r\"(M|m)(M|m)(M|m)+\", \"mm\", text)\n",
    "    text = re.sub(r\"(N|n)(N|n)(N|n)+\", \"nn\", text)\n",
    "    text = re.sub(r\"(O|o)(O|o)(O|o)+\", \"oo\", text)\n",
    "    text = re.sub(r\"(P|p)(P|p)(P|p)+\", \"pp\", text)\n",
    "    text = re.sub(r\"(Q|q)(Q|q)+\", \"q\", text)\n",
    "    text = re.sub(r\"(R|r)(R|r)(R|r)+\", \"rr\", text)\n",
    "    text = re.sub(r\"(S|s)(S|s)(S|s)+\", \"ss\", text)\n",
    "    text = re.sub(r\"(T|t)(T|t)(T|t)+\", \"tt\", text)\n",
    "    text = re.sub(r\"(V|v)(V|v)+\", \"v\", text)\n",
    "    text = re.sub(r\"(Y|y)(Y|y)(Y|y)+\", \"y\", text)\n",
    "    text = re.sub(r\"plzz+\", \"please\", text)\n",
    "    text = re.sub(r\"(Z|z)(Z|z)(Z|z)+\", \"zz\", text)\n",
    "    text = re.sub(r\"(-+|\\.+)\", \" \", text)\n",
    "    \n",
    "    # JINKI\n",
    "    text = re.sub(r\"(\\!)+\", \"!\", text)\n",
    "    text = re.sub(r\"(\\@)+\", \"\", text)\n",
    "    text = re.sub(r\"(\\#)+\", \"\", text)\n",
    "    text = re.sub(r\"(\\$)+\", \"\", text)\n",
    "    text = re.sub(r\"(\\%)+\", \"\", text)\n",
    "    text = re.sub(r\"(\\^)+\", \"\", text)\n",
    "    text = re.sub(r\"(\\&)+\", \"\", text)\n",
    "    text = re.sub(r\"(\\*)+\", \"\", text)\n",
    "    text = re.sub(r\"(\\+)+\", \"\", text)\n",
    "    text = re.sub(r\"(\\=)+\", \"\", text)\n",
    "    text = re.sub(r\"(\\_)+\", \"_\", text)\n",
    "    text = re.sub(r\"(\\<)+\", \">\", text)\n",
    "    text = re.sub(r\"(\\>)+\", \">\", text)\n",
    "    text = re.sub(r\"(\\?)+\", \"?\", text)\n",
    "    text = re.sub(r\"(\\.)+\", \".\", text)\n",
    "    text = re.sub(r\"(\\:)+\", \"\", text)\n",
    "    text = re.sub(r\"(\\/)+\", \"\", text)\n",
    "    \n",
    "    return text\n",
    "\n",
    "def correct_contraction(x, dic):\n",
    "    for word in dic.keys():\n",
    "        if word in x:\n",
    "            x = x.replace(word, dic[word])\n",
    "    return x\n",
    "\n",
    "def correct_spelling(x, dic):\n",
    "    for word in dic.keys():\n",
    "        if word in x:\n",
    "            x = x.replace(word, dic[word])\n",
    "    return x\n",
    "\n",
    "def remove_url(text):\n",
    "    pat = re.compile(r'(https://|http://|http//)(\\w|\\.|\\/|\\-|\\?|\\=|\\&|\\+|\\#|\\%)+')\n",
    "    text = re.sub(pat, ' URL ', text)\n",
    "    return text\n",
    "\n",
    "def preprocess(text):\n",
    "    \"\"\"http://172.30.1.100:9999/notebooks/ipynb/text%20cleaning.ipynb#\n",
    "    preprocess text main steps\n",
    "    \"\"\"\n",
    "    text = unquote(text)\n",
    "    text = remove_space(text)\n",
    "    text = clean_special_punctuations(text)\n",
    "    text = clean_number(text)\n",
    "    text = pre_clean_rare_words(text)\n",
    "    text = clean_misspell(text)\n",
    "    #text = spacing_punctuation(text)\n",
    "    text = spacing_some_connect_words(text)\n",
    "    text = clean_bad_case_words(text)\n",
    "    text = remove_url(text)\n",
    "    text = clean_repeat_words(text)\n",
    "    text = remove_space(text)\n",
    "    \n",
    "    # JINKI\n",
    "    text = text.lower()\n",
    "    text = re.sub(r\"\\'\", \" QUOTE \", text)\n",
    "    \n",
    "    # my own cleaning\n",
    "    #text = clean_money(text)\n",
    "    \n",
    "    return text\n",
    "\n",
    "def text_clean_wrapper(df):\n",
    "    df[\"comment_text\"] = df[\"comment_text\"].apply(preprocess)\n",
    "    return df"
   ]
  },
  {
   "cell_type": "code",
   "execution_count": 11,
   "metadata": {},
   "outputs": [],
   "source": [
    "from multiprocessing import Pool\n",
    "import psutil\n",
    "num_partitions = 20 # number of partitions to split dataframe\n",
    "num_cores = psutil.cpu_count()  # number of cores on your machine\n",
    "\n",
    "def df_parallelize_run(df, func):\n",
    "    df_split = np.array_split(df, num_partitions)\n",
    "    pool = Pool(num_cores)\n",
    "    df = pd.concat(pool.map(func, df_split))\n",
    "    #df = sp.vstack(pool.map(func, df_split), format='csr') faster and mem efficient for\n",
    "    pool.close()\n",
    "    pool.join()\n",
    "    \n",
    "    return df"
   ]
  },
  {
   "cell_type": "code",
   "execution_count": 12,
   "metadata": {},
   "outputs": [],
   "source": [
    "def clean_comment_text(df):\n",
    "    df = df_parallelize_run(df, text_clean_wrapper)\n",
    "    df['comment_text'] = df['comment_text'].progress_apply(lambda x: correct_contraction(x, contraction_mapping))\n",
    "    df['comment_text'] = df['comment_text'].progress_apply(lambda x: correct_contraction(x, punc_mapping))\n",
    "    df['comment_text'] = df['comment_text'].progress_apply(lambda x: clean_number(x))\n",
    "    \n",
    "    #del contraction_mapping\n",
    "    gc.collect()\n",
    "    \n",
    "    return df"
   ]
  },
  {
   "cell_type": "code",
   "execution_count": 13,
   "metadata": {},
   "outputs": [],
   "source": [
    "#train = pd.read_csv('/data/jigsaw/train_sample.csv')\n",
    "train = pd.read_csv('/data/jigsaw/train.csv.zip', compression='zip')\n",
    "#test = pd.read_csv('/data/jigsaw/test.csv')\n",
    "#test = df_parallelize_run(test, text_clean_wrapper)"
   ]
  },
  {
   "cell_type": "code",
   "execution_count": 8,
   "metadata": {},
   "outputs": [
    {
     "name": "stdout",
     "output_type": "stream",
     "text": [
      "CPU times: user 3.03 s, sys: 3.54 s, total: 6.57 s\n",
      "Wall time: 8min 45s\n"
     ]
    }
   ],
   "source": [
    "%%time\n",
    "train = df_parallelize_run(train, text_clean_wrapper)"
   ]
  },
  {
   "cell_type": "code",
   "execution_count": 9,
   "metadata": {},
   "outputs": [
    {
     "name": "stderr",
     "output_type": "stream",
     "text": [
      "100%|██████████| 1804874/1804874 [02:33<00:00, 11721.43it/s]\n",
      "100%|██████████| 1804874/1804874 [00:04<00:00, 443538.20it/s]\n",
      "100%|██████████| 1804874/1804874 [01:44<00:00, 17309.98it/s]\n"
     ]
    }
   ],
   "source": [
    "train['comment_text'] = train['comment_text'].progress_apply(lambda x: correct_contraction(x, contraction_mapping))\n",
    "train['comment_text'] = train['comment_text'].progress_apply(lambda x: correct_contraction(x, punc_mapping))\n",
    "train['comment_text'] = train['comment_text'].progress_apply(lambda x: clean_number(x))"
   ]
  },
  {
   "cell_type": "code",
   "execution_count": 10,
   "metadata": {},
   "outputs": [],
   "source": [
    "word_cnt = {}\n",
    "for text in train['comment_text']:\n",
    "    text = text.split()\n",
    "    for t in text:\n",
    "        try:\n",
    "            word_cnt[t] += 1\n",
    "        except KeyError:\n",
    "            word_cnt[t] = 1"
   ]
  },
  {
   "cell_type": "code",
   "execution_count": 16,
   "metadata": {},
   "outputs": [
    {
     "data": {
      "image/png": "[encoded data removed]",
      "text/plain": [
       "<matplotlib.figure.Figure at 0x7f7f8f73aeb8>"
      ]
     },
     "metadata": {},
     "output_type": "display_data"
    }
   ],
   "source": [
    "import matplotlib.pyplot as plt\n",
    "plt.figure(figsize=(20, 20))\n",
    "plt.hist(word_cnt.values(), bins=np.arange(0, 100, 2), rwidth=0.8)\n",
    "plt.ylim(0, 15000)\n",
    "plt.yticks(np.arange(0, 15000, 1000))\n",
    "plt.show()"
   ]
  },
  {
   "cell_type": "code",
   "execution_count": 12,
   "metadata": {},
   "outputs": [],
   "source": [
    "sorted_word_cnt = sorted(word_cnt.items(), key=operator.itemgetter(0))\n",
    "word_list = [k for k,v in sorted_word_cnt if v >= MINCOUNT]\n",
    "#word_dict = [for i, w in enumerate(word_list)]"
   ]
  },
  {
   "cell_type": "code",
   "execution_count": 13,
   "metadata": {},
   "outputs": [],
   "source": [
    "filtered_word = ['PAD'] + [w[0] for w in list(filter(lambda x: x[1] > MINCOUNT, sorted_word_cnt))]"
   ]
  },
  {
   "cell_type": "code",
   "execution_count": 14,
   "metadata": {},
   "outputs": [],
   "source": [
    "filtered_word.append('UNKNOWN')"
   ]
  },
  {
   "cell_type": "code",
   "execution_count": 15,
   "metadata": {
    "scrolled": false
   },
   "outputs": [],
   "source": [
    "time_hash = hash(time.time())\n",
    "word_pickle_filename = 'word_{}_{}.pkl'.format(MINCOUNT, time_hash)\n",
    "pickle.dump(filtered_word, open(word_pickle_filename,'wb'))"
   ]
  },
  {
   "cell_type": "code",
   "execution_count": 17,
   "metadata": {},
   "outputs": [
    {
     "data": {
      "text/plain": [
       "53449"
      ]
     },
     "execution_count": 17,
     "metadata": {},
     "output_type": "execute_result"
    }
   ],
   "source": [
    "len(filtered_word)"
   ]
  },
  {
   "cell_type": "code",
   "execution_count": 20,
   "metadata": {},
   "outputs": [
    {
     "data": {
      "text/plain": [
       "'word_14_665013221336055259.pkl'"
      ]
     },
     "execution_count": 20,
     "metadata": {},
     "output_type": "execute_result"
    }
   ],
   "source": [
    "word_pickle_filename"
   ]
  },
  {
   "cell_type": "markdown",
   "metadata": {},
   "source": [
    "# 1. Feature Engineering"
   ]
  },
  {
   "cell_type": "code",
   "execution_count": 1,
   "metadata": {},
   "outputs": [],
   "source": [
    "import pandas as pd\n",
    "import numpy as np"
   ]
  },
  {
   "cell_type": "code",
   "execution_count": 2,
   "metadata": {},
   "outputs": [],
   "source": [
    "import pickle\n",
    "word = pickle.load(open('word_14_665013221336055259.pkl','rb'))"
   ]
  },
  {
   "cell_type": "code",
   "execution_count": 3,
   "metadata": {},
   "outputs": [],
   "source": [
    "word_dict = {w:i for i, w in enumerate(word)}\n",
    "#word_dict['UNKNOWN'] = len(word_dict)"
   ]
  },
  {
   "cell_type": "code",
   "execution_count": 4,
   "metadata": {},
   "outputs": [
    {
     "data": {
      "text/plain": [
       "0"
      ]
     },
     "execution_count": 4,
     "metadata": {},
     "output_type": "execute_result"
    }
   ],
   "source": [
    "word_dict['PAD']"
   ]
  },
  {
   "cell_type": "code",
   "execution_count": 22,
   "metadata": {},
   "outputs": [],
   "source": [
    "#train = pd.read_csv('/data/jigsaw/train_sample.csv')\n",
    "#train = pd.read_csv('/data/jigsaw/train.csv.zip', compression='zip')\n",
    "train = pd.read_csv('/data/jigsaw/test.csv.zip', compression='zip')"
   ]
  },
  {
   "cell_type": "code",
   "execution_count": 23,
   "metadata": {},
   "outputs": [
    {
     "name": "stderr",
     "output_type": "stream",
     "text": [
      "100%|██████████| 97320/97320 [00:08<00:00, 11684.19it/s]\n",
      "100%|██████████| 97320/97320 [00:00<00:00, 400984.38it/s]\n",
      "100%|██████████| 97320/97320 [00:05<00:00, 17578.73it/s]"
     ]
    },
    {
     "name": "stdout",
     "output_type": "stream",
     "text": [
      "CPU times: user 14.3 s, sys: 261 ms, total: 14.5 s\n",
      "Wall time: 40.1 s\n"
     ]
    },
    {
     "name": "stderr",
     "output_type": "stream",
     "text": [
      "\n"
     ]
    }
   ],
   "source": [
    "%%time\n",
    "train = clean_comment_text(train)"
   ]
  },
  {
   "cell_type": "code",
   "execution_count": 24,
   "metadata": {},
   "outputs": [],
   "source": [
    "def tokenize_text(text):\n",
    "    text = text.split(' ')\n",
    "    word_index = np.zeros(len(text), dtype=np.int32)\n",
    "    for i, t in enumerate(text):\n",
    "        try:\n",
    "            word_index[i] = word_dict[t]\n",
    "        except KeyError:\n",
    "            word_index[i] = word_dict['UNKNOWN']\n",
    "    return word_index"
   ]
  },
  {
   "cell_type": "code",
   "execution_count": 25,
   "metadata": {},
   "outputs": [
    {
     "name": "stderr",
     "output_type": "stream",
     "text": [
      "100%|██████████| 97320/97320 [00:01<00:00, 61048.33it/s]"
     ]
    },
    {
     "name": "stdout",
     "output_type": "stream",
     "text": [
      "CPU times: user 1.6 s, sys: 12 ms, total: 1.61 s\n",
      "Wall time: 1.61 s\n"
     ]
    },
    {
     "name": "stderr",
     "output_type": "stream",
     "text": [
      "\n"
     ]
    }
   ],
   "source": [
    "%%time\n",
    "train.loc[:,'vectorized'] = train['comment_text'].progress_apply(lambda x: tokenize_text(x))"
   ]
  },
  {
   "cell_type": "code",
   "execution_count": 26,
   "metadata": {},
   "outputs": [],
   "source": [
    "train.loc[:,'vector_length'] = train.vectorized.apply(len)"
   ]
  },
  {
   "cell_type": "code",
   "execution_count": 27,
   "metadata": {},
   "outputs": [
    {
     "data": {
      "image/png": "[encoded data removed]",
      "text/plain": [
       "<matplotlib.figure.Figure at 0x7efc92d8b748>"
      ]
     },
     "metadata": {},
     "output_type": "display_data"
    }
   ],
   "source": [
    "import matplotlib.pyplot as plt\n",
    "_ = plt.hist(train.vector_length, bins=np.arange(0, 350, 10), rwidth=0.8)"
   ]
  },
  {
   "cell_type": "code",
   "execution_count": 28,
   "metadata": {},
   "outputs": [
    {
     "data": {
      "text/plain": [
       "362"
      ]
     },
     "execution_count": 28,
     "metadata": {},
     "output_type": "execute_result"
    }
   ],
   "source": [
    "train.vector_length.max()"
   ]
  },
  {
   "cell_type": "code",
   "execution_count": 29,
   "metadata": {},
   "outputs": [
    {
     "data": {
      "text/plain": [
       "0.00041101520756267981"
      ]
     },
     "execution_count": 29,
     "metadata": {},
     "output_type": "execute_result"
    }
   ],
   "source": [
    "(train.vector_length > 250).mean()"
   ]
  },
  {
   "cell_type": "code",
   "execution_count": 30,
   "metadata": {},
   "outputs": [],
   "source": [
    "pickle.dump(train.vectorized.values, open('vectorized.pkl', 'wb'))"
   ]
  },
  {
   "cell_type": "code",
   "execution_count": null,
   "metadata": {},
   "outputs": [],
   "source": [
    "train.shape"
   ]
  },
  {
   "cell_type": "markdown",
   "metadata": {},
   "source": [
    "### 1.2 count UNKNOWN words"
   ]
  },
  {
   "cell_type": "code",
   "execution_count": null,
   "metadata": {},
   "outputs": [],
   "source": [
    "def count_unknown(text):\n",
    "    return np.where(np.array(text) == word_dict['UNKNOWN'], True, False).sum()/len(text)"
   ]
  },
  {
   "cell_type": "code",
   "execution_count": null,
   "metadata": {},
   "outputs": [],
   "source": [
    "#train.loc[:'unknown_count'] = train.vectorized.apply(lambda x: np.where(x == word_dict['UNKNOWN'], True, False).sum())\n",
    "train.loc[:,'unknown_count'] = train.vectorized.apply(count_unknown)"
   ]
  },
  {
   "cell_type": "code",
   "execution_count": null,
   "metadata": {},
   "outputs": [],
   "source": [
    "_ = plt.hist(train.unknown_count, bins=np.arange(0, 1.0, 0.1), rwidth=0.8)"
   ]
  },
  {
   "cell_type": "code",
   "execution_count": null,
   "metadata": {},
   "outputs": [],
   "source": [
    "(train.unknown_count < 0.3).sum()/train.shape[0]"
   ]
  },
  {
   "cell_type": "code",
   "execution_count": null,
   "metadata": {},
   "outputs": [],
   "source": [
    "train.unknown_count.max()"
   ]
  },
  {
   "cell_type": "code",
   "execution_count": null,
   "metadata": {},
   "outputs": [],
   "source": []
  }
 ],
 "metadata": {
  "kernelspec": {
   "display_name": "Python 3",
   "language": "python",
   "name": "python3"
  },
  "language_info": {
   "codemirror_mode": {
    "name": "ipython",
    "version": 3
   },
   "file_extension": ".py",
   "mimetype": "text/x-python",
   "name": "python",
   "nbconvert_exporter": "python",
   "pygments_lexer": "ipython3",
   "version": "3.5.2"
  }
 },
 "nbformat": 4,
 "nbformat_minor": 2
}
